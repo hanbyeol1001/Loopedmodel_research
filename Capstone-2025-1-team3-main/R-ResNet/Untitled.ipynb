{
 "cells": [
  {
   "cell_type": "code",
   "execution_count": 1,
   "id": "2c452584",
   "metadata": {},
   "outputs": [
    {
     "name": "stdout",
     "output_type": "stream",
     "text": [
      "\n",
      "_________________________________________________\n",
      "\n",
      "20250807 02:38:47 train.py main() running.\n",
      "True\n",
      "checkpoint: check_default\n",
      "data_path: ../data\n",
      "depth: 4\n",
      "epochs: 20\n",
      "lr: 0.001\n",
      "lr_factor: 0.1\n",
      "lr_schedule: [100, 150]\n",
      "model: maze_ut\n",
      "model_path: None\n",
      "shuffle: True\n",
      "optimizer: adam\n",
      "output: output_default\n",
      "quick_test: False\n",
      "save_json: False\n",
      "save_period: 20\n",
      "test_batch_size: 500\n",
      "test_iterations: None\n",
      "test_mode: default\n",
      "train_batch_size: 128\n",
      "train_log: train_log.txt\n",
      "train_mode: default\n",
      "val_period: 20\n",
      "warmup_period: 5\n",
      "width: 4\n",
      "test_maze_size: 13\n",
      "train_maze_size: 9\n",
      "logging done in output_default.\n",
      "Files already downloaded and verified\n",
      "Loading mazes of size 9 x 9.\n",
      "Downloading https://cs.umd.edu/~tomg/download/Easy_to_Hard_Datav2/maze_data_test_13.tar.gz\n",
      "Downloaded 0.00 GB: 100%|█████████████████████████| 5/5 [00:02<00:00,  2.50it/s]\n",
      "Loading mazes of size 13 x 13.\n",
      "0\n",
      "This maze_ut has 2.459 million parameters.\n",
      "Training will start at epoch 0.\n",
      "==> Starting training for 20 epochs...\n",
      "DEBUG inputs.shape:  torch.Size([128, 3, 24, 24])\n",
      "DEBUG targets.shape:  torch.Size([128, 24, 24])\n",
      "DEBUG unique labels:  tensor([0, 1])\n",
      "Traceback (most recent call last):                                              \n",
      "  File \"/shared/home/lrlab/LoopWorks/Team3/hb/Loopedmodel_research/Capstone-2025-1-team3-main/R-ResNet/train.py\", line 299, in <module>\n",
      "    main()\n",
      "  File \"/shared/home/lrlab/LoopWorks/Team3/hb/Loopedmodel_research/Capstone-2025-1-team3-main/R-ResNet/train.py\", line 153, in main\n",
      "    loss, acc, net = train(net, trainloader, args.train_mode, optimizer_obj, device)\n",
      "  File \"/shared/home/lrlab/LoopWorks/Team3/hb/Loopedmodel_research/Capstone-2025-1-team3-main/R-ResNet/utils.py\", line 371, in train\n",
      "    train_loss, acc, net = eval(f\"train_{mode}\")(net, trainloader, optimizer_obj, device)\n",
      "  File \"/shared/home/lrlab/LoopWorks/Team3/hb/Loopedmodel_research/Capstone-2025-1-team3-main/R-ResNet/utils.py\", line 398, in train_default\n",
      "    weighted_output, avg_ponder_cost = net(inputs)\n",
      "  File \"/shared/home/lrlab/LoopWorks/Team3/hb/Loopedmodel_research/.venv/lib/python3.9/site-packages/torch/nn/modules/module.py\", line 1751, in _wrapped_call_impl\n",
      "    return self._call_impl(*args, **kwargs)\n",
      "  File \"/shared/home/lrlab/LoopWorks/Team3/hb/Loopedmodel_research/.venv/lib/python3.9/site-packages/torch/nn/modules/module.py\", line 1762, in _call_impl\n",
      "    return forward_call(*args, **kwargs)\n",
      "  File \"/shared/home/lrlab/LoopWorks/Team3/hb/Loopedmodel_research/Capstone-2025-1-team3-main/R-ResNet/models/recur_resnet_act.py\", line 174, in forward\n",
      "    weighted_output[b] += final_remainder[b] * current_output[b]\n",
      "UnboundLocalError: local variable 'current_output' referenced before assignment\n"
     ]
    }
   ],
   "source": [
    "!MPLBACKEND=agg python train.py \\\n",
    "  --depth 4 \\\n",
    "  --width 4 \\\n",
    "  --epochs 20 \\\n",
    "  --train_batch_size 128 \\\n",
    "  --lr 0.001"
   ]
  },
  {
   "cell_type": "code",
   "execution_count": null,
   "id": "b039c111",
   "metadata": {},
   "outputs": [],
   "source": []
  }
 ],
 "metadata": {
  "kernelspec": {
   "display_name": "Python 3 (ipykernel)",
   "language": "python",
   "name": "python3"
  },
  "language_info": {
   "codemirror_mode": {
    "name": "ipython",
    "version": 3
   },
   "file_extension": ".py",
   "mimetype": "text/x-python",
   "name": "python",
   "nbconvert_exporter": "python",
   "pygments_lexer": "ipython3",
   "version": "3.9.18"
  }
 },
 "nbformat": 4,
 "nbformat_minor": 5
}
