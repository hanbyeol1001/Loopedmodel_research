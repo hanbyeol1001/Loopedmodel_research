{
 "cells": [
  {
   "cell_type": "code",
   "execution_count": 78,
   "id": "025f558a-f4d0-4cb3-80bf-7c09093c1298",
   "metadata": {},
   "outputs": [],
   "source": [
    "import os\n",
    "import numpy as np\n",
    "import matplotlib.pyplot as plt\n",
    "import datetime\n",
    "import itertools\n",
    "\n",
    "def make_hist(npy_paths, save_dir=\"./hist_output\", title=\"Distribution of Halting Steps\"):\n",
    "    color_cycle = plt.cm.Pastel1.colors  # ← 부드러운 파스텔톤 색상 사용\n",
    "    colors = itertools.cycle(color_cycle)\n",
    "\n",
    "    step_data = {}\n",
    "    all_valid_steps = set()\n",
    "\n",
    "    for path in npy_paths:\n",
    "        steps = np.load(path)\n",
    "        label = os.path.splitext(os.path.basename(path))[0]\n",
    "        valid_steps = steps[steps != -1]\n",
    "        num_removed = (steps == -1).sum()\n",
    "\n",
    "        print(f\"[{label}] Excluded {num_removed} samples with step = -1\")\n",
    "\n",
    "        step_data[label] = valid_steps\n",
    "        all_valid_steps.update(np.unique(valid_steps))\n",
    "\n",
    "    # 공통 bin 정의\n",
    "    step_min = int(min(all_valid_steps))\n",
    "    step_max = int(max(all_valid_steps))\n",
    "    bin_edges = np.arange(step_min - 0.5, step_max + 1.5, 1)\n",
    "    bin_centers = np.arange(step_min, step_max + 1)\n",
    "    num_bins = len(bin_centers)\n",
    "    bin_indices = np.arange(num_bins)\n",
    "    num_groups = len(step_data)\n",
    "    bar_width = 0.8 / num_groups\n",
    "\n",
    "    # 스타일 설정\n",
    "    plt.rcParams.update({\n",
    "        'font.size': 14,\n",
    "        'axes.labelsize': 16,\n",
    "        'axes.titlesize': 20,\n",
    "        'legend.fontsize': 16,\n",
    "        'xtick.labelsize': 13,\n",
    "        'ytick.labelsize': 13,\n",
    "        'font.family': 'sans-serif'\n",
    "    })\n",
    "\n",
    "    # 그래프 생성\n",
    "    plt.figure(figsize=(8, 4.5))  \n",
    "\n",
    "    for i, (label, valid_steps) in enumerate(step_data.items()):\n",
    "        hist, _ = np.histogram(valid_steps, bins=bin_edges)\n",
    "        offset = (i - (num_groups - 1) / 2) * bar_width\n",
    "        x_positions = bin_indices + offset\n",
    "\n",
    "        plt.bar(\n",
    "            x_positions,\n",
    "            hist,\n",
    "            width=bar_width,\n",
    "            label=label,\n",
    "            color=next(colors),\n",
    "            edgecolor='none',\n",
    "        )\n",
    "\n",
    "    plt.xticks(ticks=bin_indices, labels=[str(x) for x in bin_centers])\n",
    "    plt.xlabel(\"Halting Step\", labelpad=10)\n",
    "    plt.ylabel(\"Frequency\", labelpad=10)\n",
    "    plt.grid(axis='y', linestyle='--', alpha=0.4)\n",
    "    plt.legend(frameon=False, loc='upper left')\n",
    "    plt.tight_layout()\n",
    "\n",
    "    # 저장\n",
    "    now = datetime.datetime.now().strftime(\"%Y%m%d_%H%M%S\")\n",
    "    os.makedirs(save_dir, exist_ok=True)\n",
    "    save_path = os.path.join(save_dir, f\"{now}_grouped_hist_pastel.png\")\n",
    "    plt.savefig(save_path, dpi=120)\n",
    "    plt.close()\n",
    "    plt.show()\n",
    "\n",
    "    print(f\"[Saved] Grouped histogram (Pastel1 colors, excluding -1) → {save_path}\")\n",
    "    return save_path\n"
   ]
  },
  {
   "cell_type": "code",
   "execution_count": 79,
   "id": "5650d3fd-de69-4add-9a47-2132e62253d7",
   "metadata": {},
   "outputs": [
    {
     "name": "stdout",
     "output_type": "stream",
     "text": [
      "[halting_steps_9_test_resnet_act] Excluded 3 samples with step = -1\n",
      "[halting_steps_13_test_resnet_act] Excluded 8 samples with step = -1\n",
      "[halting_steps_15_test_resnet_act] Excluded 17 samples with step = -1\n",
      "[Saved] Grouped histogram (Pastel1 colors, excluding -1) → ./hist_output/20250621_212918_grouped_hist_pastel.png\n"
     ]
    },
    {
     "data": {
      "text/plain": [
       "' 밑에는 못멈추고 끝까지 돈 샘플들 25번까지 돈거라서 그래프에 포함하면 너무 그래프 괴상해져서 뺌 그냥 설명으로 넣어야할듯\\n[halting_steps_9_test_resnet_act] Excluded 3 samples with step = -1\\n[halting_steps_13_test_resnet_act] Excluded 8 samples with step = -1\\n[halting_steps_15_test_resnet_act] Excluded 17 samples with step = -1\\n'"
      ]
     },
     "execution_count": 79,
     "metadata": {},
     "output_type": "execute_result"
    }
   ],
   "source": [
    "npy_files = [\n",
    "    \"./hist_output/halting_steps_9_test_resnet_act.npy\",\n",
    "    \"./hist_output/halting_steps_13_test_resnet_act.npy\",\n",
    "    \"./hist_output/halting_steps_15_test_resnet_act.npy\",\n",
    "]\n",
    "\n",
    "make_hist(npy_files, title=\"Halting Step Distribution by Maze Size\")\n",
    "''' 밑에는 못멈추고 끝까지 돈 샘플들 25번까지 돈거라서 그래프에 포함하면 너무 그래프 괴상해져서 뺌 그냥 설명으로 넣어야할듯\n",
    "[halting_steps_9_test_resnet_act] Excluded 3 samples with step = -1\n",
    "[halting_steps_13_test_resnet_act] Excluded 8 samples with step = -1\n",
    "[halting_steps_15_test_resnet_act] Excluded 17 samples with step = -1\n",
    "'''"
   ]
  },
  {
   "cell_type": "code",
   "execution_count": 34,
   "id": "e2566eff-8378-464f-bfcb-400bf10969d0",
   "metadata": {},
   "outputs": [],
   "source": [
    "from collections import Counter\n",
    "\n",
    "def analyze_npy_with_counts(npy_paths):\n",
    "    for path in npy_paths:\n",
    "        if not os.path.isfile(path):\n",
    "            print(f\"[❌ Not Found] {path}\")\n",
    "            continue\n",
    "        \n",
    "        try:\n",
    "            data = np.load(path)\n",
    "            counter = Counter(data.tolist())\n",
    "            print(f\"\\n[✅ Loaded] {os.path.basename(path)} - {len(data)} items\")\n",
    "            for step in sorted(counter):\n",
    "                print(f\" - Step {step}: {counter[step]} occurrences\")\n",
    "        except Exception as e:\n",
    "            print(f\"[⚠️ Error loading {path}] {e}\")"
   ]
  },
  {
   "cell_type": "code",
   "execution_count": 35,
   "id": "6278ea03-569e-43d4-badb-4e10b46e4da4",
   "metadata": {},
   "outputs": [
    {
     "name": "stdout",
     "output_type": "stream",
     "text": [
      "\n",
      "[✅ Loaded] halting_steps_9_test_resnet_act.npy - 10000 items\n",
      " - Step 1: 18 occurrences\n",
      " - Step 2: 1612 occurrences\n",
      " - Step 3: 1424 occurrences\n",
      " - Step 4: 1701 occurrences\n",
      " - Step 5: 1522 occurrences\n",
      " - Step 6: 1917 occurrences\n",
      " - Step 7: 1717 occurrences\n",
      " - Step 8: 85 occurrences\n",
      " - Step 9: 1 occurrences\n",
      " - Step 25: 3 occurrences\n",
      "\n",
      "[✅ Loaded] halting_steps_13_test_resnet_act.npy - 10000 items\n",
      " - Step 2: 258 occurrences\n",
      " - Step 3: 802 occurrences\n",
      " - Step 4: 1019 occurrences\n",
      " - Step 5: 778 occurrences\n",
      " - Step 6: 445 occurrences\n",
      " - Step 7: 2278 occurrences\n",
      " - Step 8: 3882 occurrences\n",
      " - Step 9: 510 occurrences\n",
      " - Step 10: 19 occurrences\n",
      " - Step 11: 1 occurrences\n",
      " - Step 25: 8 occurrences\n",
      "\n",
      "[✅ Loaded] halting_steps_15_test_resnet_act.npy - 10000 items\n",
      " - Step 2: 58 occurrences\n",
      " - Step 3: 465 occurrences\n",
      " - Step 4: 853 occurrences\n",
      " - Step 5: 689 occurrences\n",
      " - Step 6: 168 occurrences\n",
      " - Step 7: 765 occurrences\n",
      " - Step 8: 5323 occurrences\n",
      " - Step 9: 1531 occurrences\n",
      " - Step 10: 128 occurrences\n",
      " - Step 11: 3 occurrences\n",
      " - Step 25: 17 occurrences\n"
     ]
    }
   ],
   "source": [
    "analyze_npy_with_counts(npy_files)"
   ]
  },
  {
   "cell_type": "code",
   "execution_count": null,
   "id": "77d730a4-91c5-47ea-ad00-1053df137cea",
   "metadata": {},
   "outputs": [],
   "source": []
  }
 ],
 "metadata": {
  "kernelspec": {
   "display_name": "team3",
   "language": "python",
   "name": "team3"
  },
  "language_info": {
   "codemirror_mode": {
    "name": "ipython",
    "version": 3
   },
   "file_extension": ".py",
   "mimetype": "text/x-python",
   "name": "python",
   "nbconvert_exporter": "python",
   "pygments_lexer": "ipython3",
   "version": "3.8.20"
  }
 },
 "nbformat": 4,
 "nbformat_minor": 5
}
